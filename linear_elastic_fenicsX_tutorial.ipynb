{
 "cells": [
  {
   "cell_type": "markdown",
   "metadata": {},
   "source": [
    "## Test problem\n",
    "\n",
    "As a test example, we will model a clamped beam deformed under its own weight in 3D. This can be modeled by setting the right-hand side body force per unit volume to  \n",
    "**f = (0, 0, –ρg)**  \n",
    "with **ρ** the density of the beam and **g** the acceleration of gravity.\n",
    "\n",
    "The beam is box-shaped with length **L** and has a square cross section of width **W**.  \n",
    "We set **u = u_D = (0, 0, 0)** at the clamped end, **x = 0**.  \n",
    "The rest of the boundary is traction-free, that is, we set **T = 0**.\n",
    "\n",
    "We start by defining the physical variables used in the program.\n"
   ]
  },
  {
   "cell_type": "code",
   "execution_count": 2,
   "metadata": {},
   "outputs": [],
   "source": [
    "# Scaled variable\n",
    "import pyvista\n",
    "from dolfinx import mesh, fem, plot, io, default_scalar_type\n",
    "from dolfinx.fem.petsc import LinearProblem\n",
    "from mpi4py import MPI\n",
    "import ufl\n",
    "import numpy as np\n",
    "L = 1\n",
    "W = 0.2\n",
    "mu = 1\n",
    "rho = 1\n",
    "delta = W / L\n",
    "gamma = 0.4 * delta**2\n",
    "beta = 1.25\n",
    "lambda_ = beta\n",
    "g = gamma"
   ]
  },
  {
   "cell_type": "markdown",
   "metadata": {},
   "source": [
    "We then create the mesh, which will consist of hexahedral elements, along with the function space.\n",
    "\n",
    "As we want a vector element with three components, we add **(3, )** or **(domain.geometry.dim, )** to the element tuple to make it a triplet.\n",
    "\n",
    "However, we also could have used `basix.ufl`'s functionality, creating a vector element:\n",
    "\n",
    "```python\n",
    "element = basix.ufl.element(\"Lagrange\", domain.topology.cell_name(), 1, shape=(domain.geometry.dim,))\n",
    "V = dolfinx.fem.functionspace(domain, element)\n"
   ]
  },
  {
   "cell_type": "code",
   "execution_count": 3,
   "metadata": {},
   "outputs": [],
   "source": [
    "domain = mesh.create_box(MPI.COMM_WORLD, [np.array([0, 0, 0]), np.array([L, W, W])],\n",
    "                         [20, 6, 6], cell_type=mesh.CellType.hexahedron)\n",
    "V = fem.functionspace(domain, (\"Lagrange\", 1, (domain.geometry.dim, )))"
   ]
  },
  {
   "cell_type": "markdown",
   "metadata": {},
   "source": [
    "\n",
    "## Boundary conditions\n",
    "\n",
    "As we would like to clamp the boundary at **x = 0**, we do this by using a marker function, which locates the facets where **x** is close to zero by machine precision.\n"
   ]
  },
  {
   "cell_type": "code",
   "execution_count": 4,
   "metadata": {},
   "outputs": [],
   "source": [
    "def clamped_boundary(x):\n",
    "    return np.isclose(x[0], 0)\n",
    "\n",
    "\n",
    "fdim = domain.topology.dim - 1\n",
    "boundary_facets = mesh.locate_entities_boundary(domain, fdim, clamped_boundary)\n",
    "\n",
    "u_D = np.array([0, 0, 0], dtype=default_scalar_type)\n",
    "bc = fem.dirichletbc(u_D, fem.locate_dofs_topological(V, fdim, boundary_facets), V)"
   ]
  },
  {
   "cell_type": "markdown",
   "metadata": {},
   "source": [
    "As we want the traction **T** over the remaining boundary to be 0, we create a `dolfinx.Constant`.\n"
   ]
  },
  {
   "cell_type": "code",
   "execution_count": 5,
   "metadata": {},
   "outputs": [],
   "source": [
    "T = fem.Constant(domain, default_scalar_type((0, 0, 0)))"
   ]
  },
  {
   "cell_type": "markdown",
   "metadata": {},
   "source": [
    "We also want to specify the integration measure **ds**, which should be the integral over the boundary of our domain.\n",
    "\n",
    "We do this by using `ufl`, and its built-in integration measures.\n"
   ]
  },
  {
   "cell_type": "code",
   "execution_count": 6,
   "metadata": {},
   "outputs": [],
   "source": [
    "ds = ufl.Measure(\"ds\", domain=domain)"
   ]
  },
  {
   "cell_type": "markdown",
   "metadata": {},
   "source": [
    "## Variational formulation\n",
    "\n",
    "We are now ready to create our variational formulation in close-to-mathematical syntax, as for the previous problems.\n"
   ]
  },
  {
   "cell_type": "code",
   "execution_count": 7,
   "metadata": {},
   "outputs": [],
   "source": [
    "def epsilon(u):\n",
    "    return ufl.sym(ufl.grad(u))  # Equivalent to 0.5*(ufl.nabla_grad(u) + ufl.nabla_grad(u).T)\n",
    "\n",
    "\n",
    "def sigma(u):\n",
    "    return lambda_ * ufl.nabla_div(u) * ufl.Identity(len(u)) + 2 * mu * epsilon(u)\n",
    "\n",
    "\n",
    "u = ufl.TrialFunction(V)\n",
    "v = ufl.TestFunction(V)\n",
    "f = fem.Constant(domain, default_scalar_type((0, 0, -rho * g)))\n",
    "a = ufl.inner(sigma(u), epsilon(v)) * ufl.dx\n",
    "L = ufl.dot(f, v) * ufl.dx + ufl.dot(T, v) * ds"
   ]
  },
  {
   "cell_type": "markdown",
   "metadata": {},
   "source": [
    "## Solve the linear variational problem\n",
    "\n",
    "As in the previous demos, we assemble the matrix and right-hand side vector and use PETSc to solve our variational problem.\n"
   ]
  },
  {
   "cell_type": "code",
   "execution_count": 8,
   "metadata": {},
   "outputs": [],
   "source": [
    "problem = LinearProblem(a, L, bcs=[bc], petsc_options={\"ksp_type\": \"preonly\", \"pc_type\": \"lu\"})\n",
    "uh = problem.solve()"
   ]
  },
  {
   "cell_type": "markdown",
   "metadata": {},
   "source": [
    "## Deformation Visualization in ParaView\n",
    "\n",
    "> **Note:** I am still working out this part of the workflow. I chose to use ParaView for visualization due to compatibility issues with `pyvista` on my system.\n",
    "\n",
    "To visualize the computed deformation, I save the solution using an `XDMFFile`. After saving, the file can be opened in **ParaView**.\n",
    "\n",
    "Open `deformation.xdmf` in ParaView, press **Apply**, and then click the **Warp by Vector** button  \n",
    "(or navigate via `Filters → Alphabetical → Warp by Vector`) and press **Apply** again.\n",
    "\n",
    "To color the deformed beam, use the dropdown in the **color menu** and change the value from `Solid Color` to `Deformation`.\n"
   ]
  },
  {
   "cell_type": "code",
   "execution_count": 9,
   "metadata": {},
   "outputs": [],
   "source": [
    "with io.XDMFFile(domain.comm, \"deformation.xdmf\", \"w\") as xdmf:\n",
    "    xdmf.write_mesh(domain)\n",
    "    uh.name = \"Deformation\"\n",
    "    xdmf.write_function(uh)"
   ]
  },
  {
   "cell_type": "markdown",
   "metadata": {},
   "source": [
    "## Stress computation\n",
    "\n",
    "As soon as the displacement is computed, we can compute various stress measures.  \n",
    "We will compute the von Mises stress defined as:\n",
    "\n",
    "**σ_m = √(3/2) · s : s**\n",
    "\n",
    "where **s** is the deviatoric stress tensor:\n",
    "\n",
    "**s(u) = σ(u) – (1/3) tr(σ(u)) I**\n"
   ]
  },
  {
   "cell_type": "code",
   "execution_count": 10,
   "metadata": {},
   "outputs": [],
   "source": [
    "s = sigma(uh) - 1. / 3 * ufl.tr(sigma(uh)) * ufl.Identity(len(uh))\n",
    "von_Mises = ufl.sqrt(3. / 2 * ufl.inner(s, s))"
   ]
  },
  {
   "cell_type": "markdown",
   "metadata": {},
   "source": [
    "The `von_Mises` variable is now an expression that must be projected into an appropriate function space so that we can visualize it.\n",
    "\n",
    "As `uh` is a linear combination of first-order piecewise continuous functions, the von Mises stresses will be a cell-wise constant function.\n"
   ]
  },
  {
   "cell_type": "code",
   "execution_count": 11,
   "metadata": {},
   "outputs": [],
   "source": [
    "V_von_mises = fem.functionspace(domain, (\"DG\", 0))\n",
    "stress_expr = fem.Expression(von_Mises, V_von_mises.element.interpolation_points())\n",
    "stresses = fem.Function(V_von_mises)\n",
    "stresses.interpolate(stress_expr)"
   ]
  },
  {
   "cell_type": "markdown",
   "metadata": {},
   "source": [
    "In the previous sections, we have only visualized first-order Lagrangian functions.\n",
    "\n",
    "However, the von Mises stresses are piecewise constant on each cell.  \n",
    "Therefore, we modify our plotting routine slightly.\n",
    "\n",
    "The first thing we notice is that we now set values for each cell, which has a one-to-one correspondence with the degrees of freedom in the function space.\n"
   ]
  },
  {
   "cell_type": "code",
   "execution_count": 13,
   "metadata": {},
   "outputs": [],
   "source": [
    "from dolfinx import io\n",
    "\n",
    "with io.XDMFFile(domain.comm, \"stresses.xdmf\", \"w\") as xdmf:\n",
    "    xdmf.write_mesh(domain)\n",
    "    stresses.name = \"VonMises\"\n",
    "    xdmf.write_function(stresses)\n"
   ]
  },
  {
   "cell_type": "code",
   "execution_count": null,
   "metadata": {},
   "outputs": [],
   "source": []
  }
 ],
 "metadata": {
  "kernelspec": {
   "display_name": "fenicsx-env",
   "language": "python",
   "name": "python3"
  },
  "language_info": {
   "codemirror_mode": {
    "name": "ipython",
    "version": 3
   },
   "file_extension": ".py",
   "mimetype": "text/x-python",
   "name": "python",
   "nbconvert_exporter": "python",
   "pygments_lexer": "ipython3",
   "version": "3.13.2"
  }
 },
 "nbformat": 4,
 "nbformat_minor": 2
}
